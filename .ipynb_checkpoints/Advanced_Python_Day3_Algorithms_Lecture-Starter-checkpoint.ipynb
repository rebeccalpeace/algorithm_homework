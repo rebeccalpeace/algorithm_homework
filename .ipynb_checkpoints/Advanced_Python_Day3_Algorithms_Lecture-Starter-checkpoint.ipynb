{
 "cells": [
  {
   "cell_type": "markdown",
   "metadata": {},
   "source": [
    "# Classic Algorithms"
   ]
  },
  {
   "cell_type": "markdown",
   "metadata": {},
   "source": [
    "## Tasks Today:\n",
    " \n",
    "1) <b>In-Place Algorithms</b> <br>\n",
    " &nbsp;&nbsp;&nbsp;&nbsp; a) Syntax <br>\n",
    " &nbsp;&nbsp;&nbsp;&nbsp; a) Out of Place Algorithm <br>\n",
    " &nbsp;&nbsp;&nbsp;&nbsp; b) In-Class Exercise #1 <br>\n",
    "2) <b>Two Pointers</b> <br>\n",
    "3) <b>Sorting Algorithms</b> <br>\n",
    "4) <b>Merge Sort</b> <br>\n",
    " &nbsp;&nbsp;&nbsp;&nbsp; a) Video on Algorithms <br>\n",
    " &nbsp;&nbsp;&nbsp;&nbsp; b) How it Works <br>\n",
    "5) <b>Exercises</b> <br>\n",
    " &nbsp;&nbsp;&nbsp;&nbsp; a) Exercise #1 - Reverse a List in Place Using an In-Place Algorithm <br>\n",
    " &nbsp;&nbsp;&nbsp;&nbsp; b) Exercise #2 - Find Distinct Words <br>\n",
    " &nbsp;&nbsp;&nbsp;&nbsp; c) Exercise #3 - Write a program to implement a Linear Search Algorithm. <br>"
   ]
  },
  {
   "cell_type": "code",
   "execution_count": null,
   "metadata": {},
   "outputs": [],
   "source": []
  },
  {
   "cell_type": "code",
   "execution_count": 3,
   "metadata": {
    "scrolled": true
   },
   "outputs": [
    {
     "name": "stdout",
     "output_type": "stream",
     "text": [
      "0 0\n",
      "0 1\n",
      "0 2\n",
      "1 0\n",
      "1 1\n",
      "1 2\n",
      "2 0\n",
      "2 1\n",
      "2 2\n"
     ]
    },
    {
     "data": {
      "text/plain": [
       "9"
      ]
     },
     "execution_count": 3,
     "metadata": {},
     "output_type": "execute_result"
    }
   ],
   "source": [
    "# nested loops are usually indicative of quadratic function\n",
    "\n",
    "\n",
    "def count_operations(n):\n",
    "    num_operations = 0\n",
    "    for i in range(n):\n",
    "        for j in range(n):\n",
    "            print(i, j)\n",
    "            num_operations += 1\n",
    "    return num_operations\n",
    "\n",
    "count_operations(3)      # the output will be the argument **2"
   ]
  },
  {
   "cell_type": "code",
   "execution_count": null,
   "metadata": {},
   "outputs": [],
   "source": [
    "my_list = [2, 5, 7, 9, 3, 5, 1, 8]\n",
    "\n",
    "def sort_my_list(a_list):           # this just updates the list\n",
    "    a_list.sort()                   # does not create new space\n",
    "                                    # constant space )[1] - in-place algorithm\n",
    "    \n",
    "    \n",
    "def sort_my_list(a_list):           # this is linear \n",
    "    return sorted(a_list)           # does create new memory and space\n",
    "                                    # linear space O(n) - Out-of-place algorithm\n",
    "    "
   ]
  },
  {
   "cell_type": "markdown",
   "metadata": {},
   "source": [
    "## In-Place Algorithms"
   ]
  },
  {
   "cell_type": "markdown",
   "metadata": {},
   "source": [
    "##### Syntax"
   ]
  },
  {
   "cell_type": "code",
   "execution_count": 6,
   "metadata": {},
   "outputs": [
    {
     "name": "stdout",
     "output_type": "stream",
     "text": [
      "[1, 2, 3, 4, 5]\n",
      "[5, 2, 3, 4, 5]\n",
      "[5, 2, 3, 4, 5]\n"
     ]
    }
   ],
   "source": [
    "list1 = [1, 2, 3, 4, 5]\n",
    "\n",
    "def swap(a_list, index_a, index_b):\n",
    "    print(a_list)\n",
    "    a_list[index_a] = a_list[index_b]\n",
    "    print(a_list)\n",
    "    a_list[index_b] = a_list[index_a]\n",
    "    print(a_list)\n",
    "    \n",
    "    \n",
    "swap(list1, 0, 4)        # this way doesn't work bc you set a to b \n",
    "                         # and then try to set b to a which is already\n",
    "                         # equal to b\n",
    "                         # see below for solution"
   ]
  },
  {
   "cell_type": "code",
   "execution_count": 7,
   "metadata": {},
   "outputs": [
    {
     "name": "stdout",
     "output_type": "stream",
     "text": [
      "[1, 2, 3, 4, 5]\n",
      "[5, 2, 3, 4, 5]\n",
      "[5, 2, 3, 4, 1]\n"
     ]
    }
   ],
   "source": [
    "list1 = [1, 2, 3, 4, 5]\n",
    "\n",
    "def swap(a_list, index_a, index_b):\n",
    "    print(a_list)\n",
    "    temp = a_list[index_a]\n",
    "    a_list[index_a] = a_list[index_b]\n",
    "    print(a_list)\n",
    "    a_list[index_b] = temp\n",
    "    print(a_list)\n",
    "    \n",
    "    \n",
    "swap(list1, 0, 4)"
   ]
  },
  {
   "cell_type": "code",
   "execution_count": 9,
   "metadata": {},
   "outputs": [
    {
     "name": "stdout",
     "output_type": "stream",
     "text": [
      "1\n",
      "2\n",
      "3\n"
     ]
    }
   ],
   "source": [
    "# a_list[a], a_list[b] = a_list[b], a_list[a]\n",
    "\n",
    "a, b, c, = 1, 2, 3           # need to line up on both sides though\n",
    "print(a)\n",
    "print(b)\n",
    "print(c)"
   ]
  },
  {
   "cell_type": "code",
   "execution_count": 11,
   "metadata": {},
   "outputs": [
    {
     "name": "stdout",
     "output_type": "stream",
     "text": [
      "Before: [10, 20, 30, 40, 50]\n",
      "After: [10, 40, 30, 20, 50]\n"
     ]
    }
   ],
   "source": [
    "# using unpacking technique above\n",
    "\n",
    "def swap2(a_list, index_a, index_b):\n",
    "    print(f\"Before: {a_list}\")\n",
    "    a_list[index_a], a_list[index_b] = a_list[index_b], a_list[index_a]\n",
    "    print(f\"After: {a_list}\")\n",
    "    \n",
    "list2 = [10, 20, 30, 40, 50]\n",
    "\n",
    "swap2(list2, 1, 3)\n",
    "\n"
   ]
  },
  {
   "cell_type": "markdown",
   "metadata": {},
   "source": [
    "#### Out of Place Algorithm"
   ]
  },
  {
   "cell_type": "code",
   "execution_count": 19,
   "metadata": {},
   "outputs": [
    {
     "name": "stdout",
     "output_type": "stream",
     "text": [
      "Before function ['Illinois', 'Texas', 'New York', 'California', 'Colorado']\n",
      "After function ['Illinois', 'Texas', 'New York', 'California', 'Colorado']\n",
      "New list ['California', 'Texas', 'New York', 'Illinois', 'Colorado']\n"
     ]
    }
   ],
   "source": [
    "def out_of_place_swap(original_list, index1, index2):\n",
    "    # create a cope of the list\n",
    "    new_list = original_list[:]\n",
    "    # set the value at inde of the new copied list to the value at index2 of the original\n",
    "    new_list[index1] = original_list[index2]\n",
    "    # set the value at index2 of the new copied list to the value at index1 of the original\n",
    "    new_list[index2] = original_list[index1]\n",
    "    return new_list\n",
    "\n",
    "list3 = ['Illinois', 'Texas', 'New York', 'California', 'Colorado']\n",
    "\n",
    "print('Before function', list3)\n",
    "new_list3 = out_of_place_swap(list3, 0, 3)\n",
    "print('After function', list3)\n",
    "print('New list', new_list3)"
   ]
  },
  {
   "cell_type": "code",
   "execution_count": 20,
   "metadata": {},
   "outputs": [
    {
     "name": "stdout",
     "output_type": "stream",
     "text": [
      "Before .sort [3, 8, 4, 22, 35, 2, 35]\n",
      "After .sort [2, 3, 4, 8, 22, 35, 35]\n"
     ]
    }
   ],
   "source": [
    "unsorted_list = [3, 8, 4, 22, 35, 2, 35]\n",
    "\n",
    "print('Before .sort', unsorted_list)\n",
    "unsorted_list.sort()                      # in place method\n",
    "print('After .sort', unsorted_list)"
   ]
  },
  {
   "cell_type": "code",
   "execution_count": 21,
   "metadata": {},
   "outputs": [
    {
     "name": "stdout",
     "output_type": "stream",
     "text": [
      "Before .sort [3, 8, 4, 22, 35, 2, 35]\n",
      "After .sort [3, 8, 4, 22, 35, 2, 35]\n"
     ]
    }
   ],
   "source": [
    "unsorted_list = [3, 8, 4, 22, 35, 2, 35]\n",
    "\n",
    "print('Before .sort', unsorted_list)\n",
    "sorted_list = sorted(unsorted_list)       # out of place method\n",
    "print('After .sort', unsorted_list)"
   ]
  },
  {
   "cell_type": "markdown",
   "metadata": {},
   "source": [
    "#### In-Class Exercise #1 <br>\n",
    "<p>Write a function that takes in four arguments (a_list, index1, index2, index3), and swaps those three positions in the list passed in.</p>"
   ]
  },
  {
   "cell_type": "code",
   "execution_count": 23,
   "metadata": {},
   "outputs": [
    {
     "name": "stdout",
     "output_type": "stream",
     "text": [
      "Before ['Austin', 'New York City', 'Chicago']\n",
      "After ['New York City', 'Chicago', 'Austin']\n"
     ]
    }
   ],
   "source": [
    "list1 = ['Austin', 'New York City', 'Chicago']\n",
    "\n",
    "def swap_three(a_list, index1, index2, index3):\n",
    "    print('Before', a_list)\n",
    "    a_list[index1], a_list[index2], a_list[index3] = a_list[index2], a_list[index3], a_list[index1]\n",
    "    print('After', a_list)\n",
    "    \n",
    "swap_three(list1, 0, 1, 2)"
   ]
  },
  {
   "cell_type": "markdown",
   "metadata": {},
   "source": [
    "## Two Pointers"
   ]
  },
  {
   "cell_type": "markdown",
   "metadata": {},
   "source": [
    "#### Syntax"
   ]
  },
  {
   "cell_type": "code",
   "execution_count": 25,
   "metadata": {},
   "outputs": [
    {
     "name": "stdout",
     "output_type": "stream",
     "text": [
      "[1, 2, 3, 4, 5, 6, 7, 8, 9, 10]\n",
      "[10, 9, 8, 7, 6, 5, 4, 3, 2, 1]\n"
     ]
    }
   ],
   "source": [
    "def reverse_swap(a_list):\n",
    "    # create two variables to point to the index we want to swap\n",
    "    print(a_list)\n",
    "    left = 0             # first element in the list (0 based index)\n",
    "    right = len(a_list) - 1\n",
    "    while left < right:\n",
    "        a_list[left], a_list[right] = a_list[right], a_list[left]\n",
    "        left += 1\n",
    "        right -= 1\n",
    "    print(a_list)\n",
    "\n",
    "    \n",
    "list4 = [1, 2, 3, 4, 5, 6, 7, 8, 9, 10]\n",
    "reverse_swap(list4)\n",
    "        "
   ]
  },
  {
   "cell_type": "code",
   "execution_count": null,
   "metadata": {},
   "outputs": [],
   "source": []
  },
  {
   "cell_type": "code",
   "execution_count": 27,
   "metadata": {},
   "outputs": [
    {
     "name": "stdout",
     "output_type": "stream",
     "text": [
      "[10, 20, 30, 40, 50]\n"
     ]
    },
    {
     "data": {
      "text/plain": [
       "[50, 40, 30, 20, 10]"
      ]
     },
     "execution_count": 27,
     "metadata": {},
     "output_type": "execute_result"
    }
   ],
   "source": [
    "def reverse_out_of_place(a_list):      # out of place bc making a copy\n",
    "    return a_list[::-1]\n",
    "\n",
    "\n",
    "list5 = [10, 20, 30, 40, 50]\n",
    "print(list5)\n",
    "reverse_out_of_place(list5)"
   ]
  },
  {
   "cell_type": "markdown",
   "metadata": {},
   "source": [
    "# Sorting Algorithms"
   ]
  },
  {
   "cell_type": "code",
   "execution_count": null,
   "metadata": {},
   "outputs": [],
   "source": [
    "https://visualgo.net/en/sorting?slide=1"
   ]
  },
  {
   "cell_type": "code",
   "execution_count": 48,
   "metadata": {},
   "outputs": [
    {
     "name": "stdout",
     "output_type": "stream",
     "text": [
      "[94, 3, 82, 77, 99, 24, 14, 78, 79, 46]\n"
     ]
    }
   ],
   "source": [
    "from random import randint\n",
    "\n",
    "list_to_sort = [randint(1, 100) for _ in range(10)]\n",
    "print(list_to_sort)"
   ]
  },
  {
   "cell_type": "markdown",
   "metadata": {},
   "source": [
    "#### Bubble Sort\n",
    "\n",
    "Worst Case: O(n^2) Time - O(1) Space"
   ]
  },
  {
   "cell_type": "code",
   "execution_count": 51,
   "metadata": {},
   "outputs": [
    {
     "data": {
      "text/plain": [
       "[3, 14, 24, 46, 77, 78, 79, 82, 94, 99]"
      ]
     },
     "execution_count": 51,
     "metadata": {},
     "output_type": "execute_result"
    }
   ],
   "source": [
    "# compares each item in list by 'bubbling' largest value to the end of the list\n",
    "# in place algorithm\n",
    "# O(1) space bc the list at the end takes up same amount of space as list at beginning(constant space)\n",
    "# O(n**2) time bc number of elements * number of elements is worst case scenario(quadratic)\n",
    "\n",
    "\n",
    "def bubble_sort(lst):\n",
    "    # when we first start, we assume the list is unsorted\n",
    "    needs_sorting = True\n",
    "    # while the list is unsorted, loop through the list and bubble the largest to the top (far right)\n",
    "    while needs_sorting:\n",
    "        # assume the loop is now sorted\n",
    "        needs_sorting = False\n",
    "        # begin the loop, using the index of the list\n",
    "        for idx in range(len(lst) - 1):\n",
    "            # if the value of the list at the current index is > value to the right\n",
    "            if lst[idx] > lst[idx + 1]:\n",
    "                # if yes, swap those two values\n",
    "                lst[idx], lst[idx+1] = lst[idx+1], lst[idx]\n",
    "                # if we have to swap, that means our list is not sorted\n",
    "                needs_sorting = True\n",
    "    # return sorted list\n",
    "    return lst\n",
    "\n",
    "\n",
    "\n",
    "bubble_sort(list_to_sort)\n",
    "       "
   ]
  },
  {
   "cell_type": "markdown",
   "metadata": {},
   "source": [
    "##### Insertion Sort\n",
    "\n",
    "Worst Case: O(n^2) time - O(1)space"
   ]
  },
  {
   "cell_type": "code",
   "execution_count": null,
   "metadata": {},
   "outputs": [],
   "source": [
    "list_to_sort = [24, 3, 17, 9, 77, 62, 99, 38, 82, 10]"
   ]
  },
  {
   "cell_type": "code",
   "execution_count": 54,
   "metadata": {},
   "outputs": [
    {
     "data": {
      "text/plain": [
       "[3, 14, 24, 46, 77, 78, 79, 82, 94, 99]"
      ]
     },
     "execution_count": 54,
     "metadata": {},
     "output_type": "execute_result"
    }
   ],
   "source": [
    "def insertion_sort(lst):\n",
    "    # \"mark\" first element as sorted, loop over the rest of the unsorted section\n",
    "    for idx in range(1, len(lst)):\n",
    "        # while we're not at the front of the list and the element is < the element to its left \n",
    "        while idx > 0 and lst[idx] < lst[idx-1]:\n",
    "            # swap our element with the element to its left\n",
    "            lst[idx], lst[idx-1] = lst[idx-1], lst[idx]\n",
    "            # move our pointer left one element (to match the new swap)\n",
    "            idx -= 1\n",
    "    # after the loop is finished, return lst\n",
    "    return lst\n",
    "\n",
    "insertion_sort(list_to_sort)\n",
    "            "
   ]
  },
  {
   "cell_type": "markdown",
   "metadata": {},
   "source": [
    "## Merge Sort"
   ]
  },
  {
   "cell_type": "markdown",
   "metadata": {},
   "source": [
    "#### How it Works"
   ]
  },
  {
   "cell_type": "code",
   "execution_count": null,
   "metadata": {},
   "outputs": [],
   "source": [
    "https://www.hackerearth.com/practice/algorithms/sorting/merge-sort/visualize/"
   ]
  },
  {
   "cell_type": "code",
   "execution_count": 55,
   "metadata": {},
   "outputs": [],
   "source": [
    "list_to_sort = [24, 4, 17, 8, 77, 62, 99, 26, 77, 86, 10]"
   ]
  },
  {
   "cell_type": "code",
   "execution_count": 57,
   "metadata": {
    "scrolled": true
   },
   "outputs": [
    {
     "name": "stdout",
     "output_type": "stream",
     "text": [
      "Splitting... [24, 4, 17, 8, 77, 62, 99, 26, 77, 86, 10]\n",
      "Splitting... [24, 4, 17, 8, 77]\n",
      "Splitting... [24, 4]\n",
      "Merging... [24]\n",
      "Merging... [4]\n",
      "Merging... [24, 4]\n",
      "Splitting... [17, 8, 77]\n",
      "Merging... [17]\n",
      "Splitting... [8, 77]\n",
      "Merging... [8]\n",
      "Merging... [77]\n",
      "Merging... [8, 77]\n",
      "Merging... [17, 8, 77]\n",
      "Merging... [24, 4, 17, 8, 77]\n",
      "Splitting... [62, 99, 26, 77, 86, 10]\n",
      "Splitting... [62, 99, 26]\n",
      "Merging... [62]\n",
      "Splitting... [99, 26]\n",
      "Merging... [99]\n",
      "Merging... [26]\n",
      "Merging... [99, 26]\n",
      "Merging... [62, 99, 26]\n",
      "Splitting... [77, 86, 10]\n",
      "Merging... [77]\n",
      "Splitting... [86, 10]\n",
      "Merging... [86]\n",
      "Merging... [10]\n",
      "Merging... [86, 10]\n",
      "Merging... [77, 86, 10]\n",
      "Merging... [62, 99, 26, 77, 86, 10]\n",
      "Merging... [24, 4, 17, 8, 77, 62, 99, 26, 77, 86, 10]\n"
     ]
    },
    {
     "data": {
      "text/plain": [
       "[24, 4, 17, 8, 77, 62, 99, 26, 77, 86, 10]"
      ]
     },
     "execution_count": 57,
     "metadata": {},
     "output_type": "execute_result"
    }
   ],
   "source": [
    "# before we put in the sorting code\n",
    "\n",
    "def merge_sort(lst):\n",
    "    # if the list is larger than 1, split list in half\n",
    "    if len(lst) > 1:\n",
    "        # find midway point of list\n",
    "        midway = len(lst) // 2\n",
    "        print('Splitting...', lst)\n",
    "        # slice the main list from the beginning to midway point\n",
    "        left_half = lst[:midway]\n",
    "        # slice the main list from the midway point to the end\n",
    "        right_half = lst[midway:]\n",
    "        \n",
    "        # recursively call merge_sort function on left half\n",
    "        merge_sort(left_half)\n",
    "        merge_sort(right_half)\n",
    "        \n",
    "    print('Merging...', lst)\n",
    "    return lst\n",
    "\n",
    "merge_sort(list_to_sort)"
   ]
  },
  {
   "cell_type": "code",
   "execution_count": 59,
   "metadata": {},
   "outputs": [
    {
     "name": "stdout",
     "output_type": "stream",
     "text": [
      "Splitting... [24, 4, 17, 8, 77, 62, 99, 26, 77, 86, 10]\n",
      "Splitting... [24, 4, 17, 8, 77]\n",
      "Splitting... [24, 4]\n",
      "Merging... [24]\n",
      "Merging... [4]\n",
      "Merging... [4, 24]\n",
      "Splitting... [17, 8, 77]\n",
      "Merging... [17]\n",
      "Splitting... [8, 77]\n",
      "Merging... [8]\n",
      "Merging... [77]\n",
      "Merging... [8, 77]\n",
      "Merging... [8, 17, 77]\n",
      "Merging... [4, 8, 17, 24, 77]\n",
      "Splitting... [62, 99, 26, 77, 86, 10]\n",
      "Splitting... [62, 99, 26]\n",
      "Merging... [62]\n",
      "Splitting... [99, 26]\n",
      "Merging... [99]\n",
      "Merging... [26]\n",
      "Merging... [26, 99]\n",
      "Merging... [26, 62, 99]\n",
      "Splitting... [77, 86, 10]\n",
      "Merging... [77]\n",
      "Splitting... [86, 10]\n",
      "Merging... [86]\n",
      "Merging... [10]\n",
      "Merging... [10, 86]\n",
      "Merging... [10, 77, 86]\n",
      "Merging... [10, 26, 62, 77, 86, 99]\n",
      "Merging... [4, 8, 10, 17, 24, 26, 62, 77, 77, 86, 99]\n"
     ]
    },
    {
     "data": {
      "text/plain": [
       "[4, 8, 10, 17, 24, 26, 62, 77, 77, 86, 99]"
      ]
     },
     "execution_count": 59,
     "metadata": {},
     "output_type": "execute_result"
    }
   ],
   "source": [
    "# added sorting code during merge portion of function\n",
    "\n",
    "def merge_sort(lst):\n",
    "    # if the list is larger than 1, split list in half\n",
    "    if len(lst) > 1:\n",
    "        # find midway point of list\n",
    "        midway = len(lst) // 2\n",
    "        print('Splitting...', lst)\n",
    "        # slice the main list from the beginning to midway point\n",
    "        left_half = lst[:midway]\n",
    "        # slice the main list from the midway point to the end\n",
    "        right_half = lst[midway:]\n",
    "        \n",
    "        # recursively call merge_sort function on left half\n",
    "        merge_sort(left_half)\n",
    "        merge_sort(right_half)\n",
    "        \n",
    "        # merge the left and right half back into the main list using pointers\n",
    "        l = 0     # pointer for left half list\n",
    "        r = 0     # pointer for right half list\n",
    "        m = 0     # pointer for main list\n",
    "        \n",
    "        # while our left and right pointers are still pointing at valid indices\n",
    "        while l < len(left_half) and r < len(right_half):\n",
    "            # if element in the left list is less than the element in the right list\n",
    "            if left_half[l] < right_half[r]:\n",
    "                # place left element in main list\n",
    "                lst[m] = left_half[l]\n",
    "                # move the left list pointer to the right one element\n",
    "                l += 1\n",
    "            # if right list element is less than left list\n",
    "            else:\n",
    "                # place the right element in the main list\n",
    "                lst[m] = right_half[r]\n",
    "                r += 1\n",
    "            # either way, always move the main pointer to the right one element\n",
    "            m += 1\n",
    "            \n",
    "        # if the right list is done, fill the main list with the rest of the sorted left half\n",
    "        while l < len(left_half):\n",
    "            lst[m] = left_half[l]\n",
    "            l += 1\n",
    "            m += 1\n",
    "        # if the left list is done first, fill the main list with the rest of the sorted right half\n",
    "        while r < len(right_half):\n",
    "            lst[m] = right_half[r]\n",
    "            r += 1\n",
    "            m += 1\n",
    "                \n",
    "        \n",
    "    print('Merging...', lst)\n",
    "    return lst\n",
    "\n",
    "merge_sort(list_to_sort)"
   ]
  },
  {
   "cell_type": "markdown",
   "metadata": {},
   "source": [
    "# Binary Search\n",
    "\n",
    "The Binary Search algorithm works by finding the number in the middle of a given array and comparing it to the target. **Given that the array is sorted**\n",
    "\n",
    "* The worst case run time for this algorithm is `O(log(n))`"
   ]
  },
  {
   "cell_type": "code",
   "execution_count": 62,
   "metadata": {},
   "outputs": [
    {
     "data": {
      "text/plain": [
       "'The index for 68 is 9'"
      ]
     },
     "execution_count": 62,
     "metadata": {},
     "output_type": "execute_result"
    }
   ],
   "source": [
    "# Less == Left\n",
    "# Greater == Right\n",
    "# List of numbers MUST be sorted\n",
    "\n",
    "def binary_search(lst, target_element):\n",
    "    # set a low and high pointer\n",
    "    low = 0   # low part of sorted list\n",
    "    high = len(lst) - 1    # high part of sorted list\n",
    "    # while the value of the low pointer is less than or equal to the high pointer\n",
    "    while low <= high:\n",
    "        # find midway point\n",
    "        mid = (low + high) // 2\n",
    "        # check if midway point is equal to our target element\n",
    "        if lst[mid] == target_element:\n",
    "            return f\"The index for {target_element} is {mid}\"\n",
    "        # if the value at the midway point is greater thann the target element\n",
    "        elif lst[mid] > target_element:\n",
    "            # set the low pointer to be one higher than current mid\n",
    "            high = mid - 1\n",
    "        # if value at midpoint is less than target\n",
    "        else:\n",
    "            # set high pointerto be one less than current mid\n",
    "            low = mid + 1\n",
    "    \n",
    "    # if low gets higher than high before we return target index\n",
    "    return -1\n",
    "\n",
    "sorted_list = [2, 4, 5, 6, 11, 18, 24, 40, 55, 68]\n",
    "\n",
    "binary_search(sorted_list, 68)"
   ]
  },
  {
   "cell_type": "markdown",
   "metadata": {},
   "source": [
    "# Exercises"
   ]
  },
  {
   "cell_type": "markdown",
   "metadata": {},
   "source": [
    "### Exercise #1 <br>\n",
    "<p>Reverse the list below in-place using an in-place algorithm.<br>For extra credit: Reverse the strings at the same time.</p>"
   ]
  },
  {
   "cell_type": "code",
   "execution_count": 87,
   "metadata": {},
   "outputs": [
    {
     "name": "stdout",
     "output_type": "stream",
     "text": [
      "Before: ['this', 'is', 'a', 'sentence', '.']\n",
      "After: ['.', 'sentence', 'a', 'is', 'this']\n"
     ]
    }
   ],
   "source": [
    "words = ['this' , 'is', 'a', 'sentence', '.']\n",
    "\n",
    "def reverse_sentence(lst):\n",
    "    print(\"Before:\", lst)\n",
    "    lst[0], lst[1], lst[3], lst[4] = lst[4], lst[3], lst[1], lst[0]\n",
    "    print(\"After:\", lst)\n",
    "    \n",
    "reverse_sentence(words)"
   ]
  },
  {
   "cell_type": "code",
   "execution_count": 114,
   "metadata": {},
   "outputs": [
    {
     "name": "stdout",
     "output_type": "stream",
     "text": [
      "['.', 'ecnetnes', 'a', 'si', 'siht']\n"
     ]
    }
   ],
   "source": [
    "words = ['this' , 'is', 'a', 'sentence', '.']\n",
    "\n",
    "def reverse_sentence(lst):\n",
    "    new_words = []\n",
    "    lst[0], lst[1], lst[3], lst[4] = lst[4], lst[3], lst[1], lst[0]\n",
    "    for i in lst:\n",
    "        word = [j for j in i]\n",
    "        word.reverse()\n",
    "        new_words.append(''.join(word))\n",
    "    print(new_words)\n",
    "    \n",
    "reverse_sentence(words)"
   ]
  },
  {
   "cell_type": "code",
   "execution_count": null,
   "metadata": {},
   "outputs": [],
   "source": []
  },
  {
   "cell_type": "markdown",
   "metadata": {},
   "source": [
    "### Exercise #2 <br>\n",
    "<p>Create a function that counts how many distinct words are in the string below, then outputs a dictionary with the words as the key and the value as the amount of times that word appears in the string.</p>\n",
    "Example Output:<code>{'in': 1, 'computing': 1, 'a': 5, ...}</code>"
   ]
  },
  {
   "cell_type": "code",
   "execution_count": 106,
   "metadata": {},
   "outputs": [
    {
     "name": "stdout",
     "output_type": "stream",
     "text": [
      "{'in': 1, 'computing': 1, 'a': 5, 'hash': 4, 'table': 2, 'map': 2, 'is': 1, 'data': 2, 'structure': 2, 'which': 2, 'implements': 1, 'an': 3, 'associative': 1, 'array': 2, 'abstract': 1, 'type': 1, 'that': 1, 'can': 2, 'keys': 1, 'to': 2, 'values': 1, 'uses': 1, 'function': 1, 'compute': 1, 'index': 1, 'into': 1, 'of': 1, 'buckets': 1, 'or': 1, 'slots': 1, 'from': 1, 'the': 1, 'desired': 1, 'value': 1, 'be': 1, 'found': 1}\n"
     ]
    }
   ],
   "source": [
    "a_text = 'In computing, a hash table hash map is a data structure which implements an associative array abstract data type, a structure that can map keys to values. A hash table uses a hash function to compute an index into an array of buckets or slots from which the desired value can be found'\n",
    "\n",
    "def distinct_words(str):\n",
    "    distinct = {}\n",
    "    list1 = [i.lower().strip(',.') for i in str.split(' ')]\n",
    "    for i in list1:\n",
    "        j = i.lower()\n",
    "        distinct[j] = list1.count(j)\n",
    "    print(distinct)\n",
    "        \n",
    "    \n",
    "distinct_words(a_text)"
   ]
  },
  {
   "cell_type": "markdown",
   "metadata": {},
   "source": [
    "## Exercise #3\n",
    "\n",
    "Write a function implementing a Linear Search Algorithm. A linear search is a method for finding an element within a list. It sequentially checks each element of the list until a match is found or the whole list has been searched. If you do not find a match, return -1"
   ]
  },
  {
   "cell_type": "code",
   "execution_count": 112,
   "metadata": {},
   "outputs": [
    {
     "data": {
      "text/plain": [
       "'The index for 70 is 3.'"
      ]
     },
     "execution_count": 112,
     "metadata": {},
     "output_type": "execute_result"
    }
   ],
   "source": [
    "nums_list = [10,23,45,70,11,15]\n",
    "target = 70     # the index for 70 is 3\n",
    "\n",
    "# If number is not present return -1\n",
    "\n",
    "\n",
    "def find_num(lst, target):\n",
    "    for i in range(len(lst)):\n",
    "        if lst[i] == target:\n",
    "            return f\"The index for {lst[i]} is {i}.\"\n",
    "    else:\n",
    "        return -1\n",
    "        \n",
    "find_num(nums_list, 70)\n",
    "        "
   ]
  }
 ],
 "metadata": {
  "kernelspec": {
   "display_name": "Python 3 (ipykernel)",
   "language": "python",
   "name": "python3"
  },
  "language_info": {
   "codemirror_mode": {
    "name": "ipython",
    "version": 3
   },
   "file_extension": ".py",
   "mimetype": "text/x-python",
   "name": "python",
   "nbconvert_exporter": "python",
   "pygments_lexer": "ipython3",
   "version": "3.9.12"
  }
 },
 "nbformat": 4,
 "nbformat_minor": 2
}
